{
  "cells": [
    {
      "cell_type": "code",
      "execution_count": null,
      "metadata": {
        "_cell_guid": "b1076dfc-b9ad-4769-8c92-a6c4dae69d19",
        "_uuid": "8f2839f25d086af736a60e9eeb907d3b93b6e0e5",
        "execution": {
          "iopub.execute_input": "2024-09-13T16:02:23.828961Z",
          "iopub.status.busy": "2024-09-13T16:02:23.828453Z",
          "iopub.status.idle": "2024-09-13T16:02:23.836814Z",
          "shell.execute_reply": "2024-09-13T16:02:23.835628Z",
          "shell.execute_reply.started": "2024-09-13T16:02:23.828918Z"
        },
        "id": "isCDc5TCKmET",
        "trusted": true
      },
      "outputs": [],
      "source": [
        "# This Python 3 environment comes with many helpful analytics libraries installed\n",
        "# It is defined by the kaggle/python Docker image: https://github.com/kaggle/docker-python\n",
        "# For example, here's several helpful packages to load\n",
        "\n",
        "import numpy as np # linear algebra\n",
        "import pandas as pd # data processing, CSV file I/O (e.g. pd.read_csv)\n",
        "\n",
        "# Input data files are available in the read-only \"../input/\" directory\n",
        "# For example, running this (by clicking run or pressing Shift+Enter) will list all files under the input directory\n",
        "\n",
        "import os\n",
        "for dirname, _, filenames in os.walk('/kaggle/input'):\n",
        "    for filename in filenames:\n",
        "        print(os.path.join(dirname, filename))\n",
        "\n",
        "# You can write up to 20GB to the current directory (/kaggle/working/) that gets preserved as output when you create a version using \"Save & Run All\"\n",
        "# You can also write temporary files to /kaggle/temp/, but they won't be saved outside of the current session"
      ]
    },
    {
      "cell_type": "code",
      "execution_count": null,
      "metadata": {
        "execution": {
          "iopub.execute_input": "2024-09-13T16:02:23.839793Z",
          "iopub.status.busy": "2024-09-13T16:02:23.839262Z"
        },
        "id": "FhEHiji5KmEW",
        "outputId": "c40b7bed-d1aa-4f17-80e2-073bcea68b06",
        "trusted": true
      },
      "outputs": [
        {
          "name": "stdout",
          "output_type": "stream",
          "text": [
            "  |   |  \n",
            "--+---+--\n",
            "  |   |  \n",
            "--+---+--\n",
            "  |   |  \n"
          ]
        },
        {
          "name": "stdout",
          "output_type": "stream",
          "text": [
            "Player X, enter your move (1-9):  2\n"
          ]
        },
        {
          "name": "stdout",
          "output_type": "stream",
          "text": [
            "  | X |  \n",
            "--+---+--\n",
            "  |   |  \n",
            "--+---+--\n",
            "  |   |  \n"
          ]
        },
        {
          "name": "stdout",
          "output_type": "stream",
          "text": [
            "Player O, enter your move (1-9):  5\n"
          ]
        },
        {
          "name": "stdout",
          "output_type": "stream",
          "text": [
            "  | X |  \n",
            "--+---+--\n",
            "  | O |  \n",
            "--+---+--\n",
            "  |   |  \n"
          ]
        },
        {
          "name": "stdout",
          "output_type": "stream",
          "text": [
            "Player X, enter your move (1-9):  7\n"
          ]
        },
        {
          "name": "stdout",
          "output_type": "stream",
          "text": [
            "  | X |  \n",
            "--+---+--\n",
            "  | O |  \n",
            "--+---+--\n",
            "X |   |  \n"
          ]
        },
        {
          "name": "stdout",
          "output_type": "stream",
          "text": [
            "Player O, enter your move (1-9):  15\n"
          ]
        },
        {
          "name": "stdout",
          "output_type": "stream",
          "text": [
            "Invalid input! Please enter a number between 1 and 9.\n",
            "  | X |  \n",
            "--+---+--\n",
            "  | O |  \n",
            "--+---+--\n",
            "X |   |  \n"
          ]
        },
        {
          "name": "stdout",
          "output_type": "stream",
          "text": [
            "Player O, enter your move (1-9):  18\n"
          ]
        },
        {
          "name": "stdout",
          "output_type": "stream",
          "text": [
            "Invalid input! Please enter a number between 1 and 9.\n",
            "  | X |  \n",
            "--+---+--\n",
            "  | O |  \n",
            "--+---+--\n",
            "X |   |  \n"
          ]
        },
        {
          "name": "stdout",
          "output_type": "stream",
          "text": [
            "Player O, enter your move (1-9):  76\n"
          ]
        },
        {
          "name": "stdout",
          "output_type": "stream",
          "text": [
            "Invalid input! Please enter a number between 1 and 9.\n",
            "  | X |  \n",
            "--+---+--\n",
            "  | O |  \n",
            "--+---+--\n",
            "X |   |  \n"
          ]
        }
      ],
      "source": [
        "def print_board(board):\n",
        "    print(f\"{board[0]} | {board[1]} | {board[2]}\")\n",
        "    print(\"--+---+--\")\n",
        "    print(f\"{board[3]} | {board[4]} | {board[5]}\")\n",
        "    print(\"--+---+--\")\n",
        "    print(f\"{board[6]} | {board[7]} | {board[8]}\")\n",
        "\n",
        "def check_win(board, player):\n",
        "    win_conditions = [\n",
        "        [0, 1, 2], [3, 4, 5], [6, 7, 8],\n",
        "        [0, 3, 6], [1, 4, 7], [2, 5, 8],\n",
        "        [0, 4, 8], [2, 4, 6]\n",
        "    ]\n",
        "    for condition in win_conditions:\n",
        "        if all(board[i] == player for i in condition):\n",
        "            return True\n",
        "    return False\n",
        "\n",
        "def check_draw(board):\n",
        "    return all(spot != ' ' for spot in board)\n",
        "\n",
        "def play_game():\n",
        "\n",
        "    board = [' '] * 9\n",
        "    current_player = 'X'\n",
        "    game_ongoing = True\n",
        "\n",
        "    while game_ongoing:\n",
        "        print_board(board)\n",
        "        try:\n",
        "            move = int(input(f\"Player {current_player}, enter your move (1-9): \")) - 1\n",
        "            if board[move] != ' ':\n",
        "                print(\"That spot is already taken! Try again.\")\n",
        "                continue\n",
        "        except (IndexError, ValueError):\n",
        "            print(\"Invalid input! Please enter a number between 1 and 9.\")\n",
        "            continue\n",
        "\n",
        "        board[move] = current_player\n",
        "\n",
        "        if check_win(board, current_player):\n",
        "            print_board(board)\n",
        "            print(f\"Player {current_player} wins!\")\n",
        "            game_ongoing = False\n",
        "\n",
        "        elif check_draw(board):\n",
        "            print_board(board)\n",
        "            print(\"It's a draw!\")\n",
        "            game_ongoing = False\n",
        "        else:\n",
        "\n",
        "            current_player = 'O' if current_player == 'X' else 'X'\n",
        "\n",
        "if __name__ == \"__main__\":\n",
        "    play_game()\n"
      ]
    }
  ],
  "metadata": {
    "colab": {
      "name": "Tic Tak Toe PyPrg",
      "provenance": []
    },
    "kaggle": {
      "accelerator": "none",
      "dataSources": [],
      "dockerImageVersionId": 30761,
      "isGpuEnabled": false,
      "isInternetEnabled": false,
      "language": "python",
      "sourceType": "notebook"
    },
    "kernelspec": {
      "display_name": "Python 3",
      "language": "python",
      "name": "python3"
    },
    "language_info": {
      "codemirror_mode": {
        "name": "ipython",
        "version": 3
      },
      "file_extension": ".py",
      "mimetype": "text/x-python",
      "name": "python",
      "nbconvert_exporter": "python",
      "pygments_lexer": "ipython3",
      "version": "3.10.14"
    }
  },
  "nbformat": 4,
  "nbformat_minor": 0
}
